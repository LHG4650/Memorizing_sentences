{
 "cells": [
  {
   "cell_type": "code",
   "execution_count": 14,
   "metadata": {},
   "outputs": [
    {
     "data": {
      "text/plain": [
       "Timedelta('0 days 17:56:49.853319')"
      ]
     },
     "execution_count": 14,
     "metadata": {},
     "output_type": "execute_result"
    }
   ],
   "source": [
    "# https://rfriend.tistory.com/497 pandas timestamp 찍는법\n",
    "# https://oceancoding.blogspot.com/2020/07/blog-post_22.html QT에서 동영상 찾는법\n",
    "\n",
    "\n",
    "from PyQt5 import uic\n",
    "from PyQt5 import QtWidgets\n",
    "from PyQt5.QtCore import pyqtSignal, QThread, QTimer\n",
    "from PyQt5.QtGui import QImage,QPixmap, QPalette, QColor, QDoubleValidator\n",
    "from PyQt5.QtCore import Qt\n",
    "from PyQt5.QtWidgets import QApplication\n",
    "from PyQt5 import QtGui\n",
    "\n",
    "import pandas as pd\n",
    "import sys\n",
    "import matplotlib.pyplot as plt\n",
    "import datetime\n",
    "\n",
    "#%matplotlib inline                              \n",
    "\n",
    "plt.rcParams['font.family'] ='Malgun Gothic'        #<<< 한글 깨짐 방지\n",
    "plt.rcParams['axes.unicode_minus'] =False           #<<< -(마이너스) 부호 깨짐 방지\n",
    "\n",
    "\n",
    "ui_path = \"data/gui_v1.ui\"\n",
    "sen_path = \"data/sentence.xlsx\"\n",
    "\n",
    "db = pd.read_excel(sen_path).set_index('key')\n",
    "db['time'] = pd.to_datetime(db['time'])\n",
    "target_db = db.sort_values('time')\n",
    "dif = datetime.datetime.now() - target_db['time'] \n",
    "dif.mean()"
   ]
  },
  {
   "cell_type": "code",
   "execution_count": null,
   "metadata": {},
   "outputs": [],
   "source": [
    "db"
   ]
  },
  {
   "cell_type": "code",
   "execution_count": 6,
   "metadata": {},
   "outputs": [
    {
     "data": {
      "text/plain": [
       "0"
      ]
     },
     "execution_count": 6,
     "metadata": {},
     "output_type": "execute_result"
    }
   ],
   "source": [
    "db = pd.read_csv(sen_path, encoding = 'cp949')\n",
    "db[db['correct']==0].__len__()"
   ]
  },
  {
   "cell_type": "code",
   "execution_count": null,
   "metadata": {},
   "outputs": [],
   "source": [
    "if __name__ == \"__main__\":\n",
    "    try:\n",
    "        App = QApplication(sys.argv)\n",
    "        print('pase 1')\n",
    "        Root = MainWindow()\n",
    "        print('pase 2')\n",
    "\n",
    "        Root.show()\n",
    "        print('pase 3')\n",
    "\n",
    "        sys.exit(App.exec())\n",
    "    except Exception as e:\n",
    "        print(e)"
   ]
  }
 ],
 "metadata": {
  "kernelspec": {
   "display_name": "Python 3.8.13 ('memorize_centence')",
   "language": "python",
   "name": "python3"
  },
  "language_info": {
   "codemirror_mode": {
    "name": "ipython",
    "version": 3
   },
   "file_extension": ".py",
   "mimetype": "text/x-python",
   "name": "python",
   "nbconvert_exporter": "python",
   "pygments_lexer": "ipython3",
   "version": "3.8.13"
  },
  "orig_nbformat": 4,
  "vscode": {
   "interpreter": {
    "hash": "f26e826a55bb462ea325368ded9cf84a0f975b5692f1bc7e051cc026c20fd54a"
   }
  }
 },
 "nbformat": 4,
 "nbformat_minor": 2
}
