{
 "cells": [
  {
   "cell_type": "code",
   "execution_count": 12,
   "metadata": {},
   "outputs": [
    {
     "name": "stdout",
     "output_type": "stream",
     "text": [
      "2022-09-04 17:12:27.534545\n",
      "2022-09-04 17:12:43.646741\n",
      "2022-09-04 17:10:05.237622\n",
      "2022-09-04 17:13:20.790772\n",
      "2022-09-04 17:12:17.909878\n",
      "2022-09-04 17:13:15.992096\n",
      "2022-09-04 17:15:30.716054\n",
      "2022-09-04 17:11:33.848704\n",
      "2022-09-04 17:15:15.031035\n",
      "2022-09-04 17:10:18.918508\n",
      "2022-09-04 17:13:48.477995\n",
      "57:53.9\n",
      "2022-09-04 17:07:53.653350\n",
      "58:04.4\n",
      "2022-09-04 17:09:19.116348\n",
      "2022-09-04 17:12:52.000631\n",
      "2022-09-04 17:13:29.399975\n",
      "2022-09-04 17:10:35.490361\n",
      "2022-09-04 17:14:22.365831\n",
      "57:19.5\n"
     ]
    }
   ],
   "source": [
    "# https://rfriend.tistory.com/497 pandas timestamp 찍는법\n",
    "# https://oceancoding.blogspot.com/2020/07/blog-post_22.html QT에서 동영상 찾는법\n",
    "\n",
    "\n",
    "from PyQt5 import uic\n",
    "from PyQt5 import QtWidgets\n",
    "from PyQt5.QtCore import pyqtSignal, QThread, QTimer\n",
    "from PyQt5.QtGui import QImage,QPixmap, QPalette, QColor, QDoubleValidator\n",
    "from PyQt5.QtCore import Qt\n",
    "from PyQt5.QtWidgets import QApplication\n",
    "from PyQt5 import QtGui\n",
    "\n",
    "import pandas as pd\n",
    "import sys\n",
    "import matplotlib.pyplot as plt\n",
    "import datetime\n",
    "\n",
    "#%matplotlib inline                              \n",
    "\n",
    "plt.rcParams['font.family'] ='Malgun Gothic'        #<<< 한글 깨짐 방지\n",
    "plt.rcParams['axes.unicode_minus'] =False           #<<< -(마이너스) 부호 깨짐 방지\n",
    "\n",
    "\n",
    "ui_path = \"data/gui_v1.ui\"\n",
    "sen_path = \"data/sentence.csv\"\n",
    "\n",
    "db = pd.read_csv(sen_path,encoding = 'cp949').set_index('key')\n",
    "idx_list = db['time'].index.tolist()\n",
    "for i in idx_list:\n",
    "    check = db['time'].loc[i]\n",
    "    #print(check)\n",
    "    try: \n",
    "        datetime.datetime.strptime(check,r'\\d{4}-\\d{2}-\\d{2}\\s\\d{2}:\\d{2}:\\d{2}.\\d{6}')\n",
    "    except:\n",
    "        print(check)"
   ]
  },
  {
   "cell_type": "code",
   "execution_count": null,
   "metadata": {},
   "outputs": [],
   "source": [
    "db"
   ]
  },
  {
   "cell_type": "code",
   "execution_count": 6,
   "metadata": {},
   "outputs": [
    {
     "data": {
      "text/plain": [
       "0"
      ]
     },
     "execution_count": 6,
     "metadata": {},
     "output_type": "execute_result"
    }
   ],
   "source": [
    "db = pd.read_csv(sen_path, encoding = 'cp949')\n",
    "db[db['correct']==0].__len__()"
   ]
  },
  {
   "cell_type": "code",
   "execution_count": null,
   "metadata": {},
   "outputs": [],
   "source": [
    "if __name__ == \"__main__\":\n",
    "    try:\n",
    "        App = QApplication(sys.argv)\n",
    "        print('pase 1')\n",
    "        Root = MainWindow()\n",
    "        print('pase 2')\n",
    "\n",
    "        Root.show()\n",
    "        print('pase 3')\n",
    "\n",
    "        sys.exit(App.exec())\n",
    "    except Exception as e:\n",
    "        print(e)"
   ]
  }
 ],
 "metadata": {
  "kernelspec": {
   "display_name": "Python 3.8.0 ('sentences')",
   "language": "python",
   "name": "python3"
  },
  "language_info": {
   "codemirror_mode": {
    "name": "ipython",
    "version": 3
   },
   "file_extension": ".py",
   "mimetype": "text/x-python",
   "name": "python",
   "nbconvert_exporter": "python",
   "pygments_lexer": "ipython3",
   "version": "3.8.0"
  },
  "orig_nbformat": 4,
  "vscode": {
   "interpreter": {
    "hash": "85f608aa6612acd5c1683a82def4a8de2b64081be14bea6627ff096845dc9c55"
   }
  }
 },
 "nbformat": 4,
 "nbformat_minor": 2
}
