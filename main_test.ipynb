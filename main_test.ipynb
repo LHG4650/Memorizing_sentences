{
 "cells": [
  {
   "cell_type": "code",
   "execution_count": 92,
   "metadata": {},
   "outputs": [
    {
     "name": "stdout",
     "output_type": "stream",
     "text": [
      "암기 + 복습모드\n",
      "외운것중 오래된거나 안외운것중에 최근거 5개중 1개\n"
     ]
    },
    {
     "data": {
      "text/plain": [
       "110"
      ]
     },
     "execution_count": 92,
     "metadata": {},
     "output_type": "execute_result"
    }
   ],
   "source": [
    "import pandas as pd\n",
    "import datetime\n",
    "import random\n",
    "sen_path = \"data/sentence.xlsx\"\n",
    "\n",
    "\n",
    "db = pd.read_excel(sen_path).set_index('key')\n",
    "db['time'] = pd.to_datetime(db['time'])\n",
    "\n",
    "\n",
    "\n",
    "M_count = (db['correct']==1).sum()                              # 외운 갯수\n",
    "UnM_count = (db['correct']==0).sum()                            # 못외운 개수\n",
    "if M_count > 50:\n",
    "    older_M_key = db['time'].sort_values()[:int(M_count*.2)].index.tolist()      # 외운것중 오래된것들 추출 10개\n",
    "else:\n",
    "    older_M_key = db['time'].sort_values()[:10].index.tolist()      # 외운것중 오래된것들 추출 10개\n",
    "\n",
    "\n",
    "\n",
    "upper_UnM_key = db[db['correct']!=1][:10].index.tolist()\n",
    "\n",
    "\n",
    "mem_standard_interval = datetime.timedelta(5.5)\n",
    "\n",
    "dif = (datetime.datetime.now() - db['time']).mean()\n",
    "dif > mem_standard_interval\n",
    "upper_UnM_key\n",
    "\n",
    "\n",
    "if dif > mem_standard_interval*2:\n",
    "    print('복습모드')\n",
    "    print('외운것중 오래된것중 1개')\n",
    "    target = random.choice(older_M_key)\n",
    "\n",
    "elif dif > mem_standard_interval:\n",
    "    print('암기 + 복습모드')\n",
    "    print('외운것중 오래된거나 안외운것중에 최근거 5개중 1개')\n",
    "    Mem = random.choice(older_M_key)\n",
    "    UnM = random.choice(upper_UnM_key[:5])\n",
    "    target = random.choice([Mem,UnM])\n",
    "\n",
    "elif dif < mem_standard_interval:\n",
    "    print('암기모드')\n",
    "    print('안외운것충 위에있는거중 10개중 1개')\n",
    "    target =  random.choice(upper_UnM_key)\n",
    "\n",
    "target"
   ]
  },
  {
   "cell_type": "code",
   "execution_count": 109,
   "metadata": {},
   "outputs": [
    {
     "name": "stdout",
     "output_type": "stream",
     "text": [
      "5일 13시간\n"
     ]
    }
   ],
   "source": [
    "time = dif.total_seconds()/60/60/24\n",
    "time = str(int(time))+\"일 \"+str(int((time-int(time))*24))+\"시간\"\n",
    "print(time)"
   ]
  },
  {
   "cell_type": "code",
   "execution_count": 6,
   "metadata": {},
   "outputs": [
    {
     "data": {
      "text/plain": [
       "0"
      ]
     },
     "execution_count": 6,
     "metadata": {},
     "output_type": "execute_result"
    }
   ],
   "source": [
    "db = pd.read_csv(sen_path, encoding = 'cp949')\n",
    "db[db['correct']==0].__len__()"
   ]
  },
  {
   "cell_type": "code",
   "execution_count": null,
   "metadata": {},
   "outputs": [],
   "source": [
    "if __name__ == \"__main__\":\n",
    "    try:\n",
    "        App = QApplication(sys.argv)\n",
    "        print('pase 1')\n",
    "        Root = MainWindow()\n",
    "        print('pase 2')\n",
    "\n",
    "        Root.show()\n",
    "        print('pase 3')\n",
    "\n",
    "        sys.exit(App.exec())\n",
    "    except Exception as e:\n",
    "        print(e)"
   ]
  }
 ],
 "metadata": {
  "kernelspec": {
   "display_name": "Python 3.8.13 ('memorize_sentenc')",
   "language": "python",
   "name": "python3"
  },
  "language_info": {
   "codemirror_mode": {
    "name": "ipython",
    "version": 3
   },
   "file_extension": ".py",
   "mimetype": "text/x-python",
   "name": "python",
   "nbconvert_exporter": "python",
   "pygments_lexer": "ipython3",
   "version": "3.8.13"
  },
  "orig_nbformat": 4,
  "vscode": {
   "interpreter": {
    "hash": "514a74d79428265a0da04a0dd107867b97e27a77eb05ade9bd6d36baa4b93c73"
   }
  }
 },
 "nbformat": 4,
 "nbformat_minor": 2
}
