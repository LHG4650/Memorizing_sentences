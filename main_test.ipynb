{
 "cells": [
  {
   "cell_type": "code",
   "execution_count": null,
   "metadata": {},
   "outputs": [],
   "source": [
    "# https://rfriend.tistory.com/497 pandas timestamp 찍는법\n",
    "\n",
    "from PyQt5 import uic\n",
    "from PyQt5 import QtWidgets\n",
    "from PyQt5.QtCore import pyqtSignal, QThread, QTimer\n",
    "from PyQt5.QtGui import QImage,QPixmap, QPalette, QColor, QDoubleValidator\n",
    "from PyQt5.QtCore import Qt\n",
    "from PyQt5.QtWidgets import QApplication\n",
    "from PyQt5 import QtGui\n",
    "\n",
    "import pandas as pd\n",
    "import sys\n",
    "import matplotlib.pyplot as plt\n",
    "\n",
    "#%matplotlib inline                              \n",
    "\n",
    "plt.rcParams['font.family'] ='Malgun Gothic'        #<<< 한글 깨짐 방지\n",
    "plt.rcParams['axes.unicode_minus'] =False           #<<< -(마이너스) 부호 깨짐 방지\n",
    "\n",
    "\n",
    "ui_path = \"gui_v1.ui\"\n",
    "sen_path = \"sentence.csv\"\n",
    "\n",
    "main_window_form_class = uic.loadUiType(ui_path)[0]\n",
    "class MainWindow(QtWidgets.QMainWindow, main_window_form_class):\n",
    "    \n",
    "    def __init__(self):\n",
    "        super(MainWindow, self).__init__()\n",
    "        self.setupUi(self)\n",
    "        self.pushButton.clicked.connect(self.get_new_sen)\n",
    "        \n",
    "    def get_new_sen(self):\n",
    "        self.db = pd.read_csv(sen_path, encoding = 'cp949')\n",
    "        target_db = self.db[self.db['correct'] != 1]\n",
    "        target_db = target_db.sort_values('time') \n",
    "        self.target = target_db.index[0]        #선택된 단어의 인덱스\n",
    "        self.target_data = target_db.loc[self.target]\n",
    "        self.Ko_window.setText(self.target_data['ko'])\n",
    "\n",
    "    def keyPressEvent(self, a0):\n",
    "        if a0.key() == Qt.Key_A:    # A누르면 정답\n",
    "            print('정상')\n",
    "            img_label_now = 1\n",
    "\n",
    "        elif a0.key() == Qt.Key_D:  #D 틀림\n",
    "            print('정상')\n",
    "            img_label_now = 0\n",
    "\n",
    "        elif a0.key() == Qt.Key_S:  # S 누르면 정답을 보여줘라\n",
    "            self.Eng_window.setText(self.target_data['eng'])\n",
    "            img_label_now =2\n",
    "\n",
    "    def save_recode(self,num):\n",
    "        time_stamp = pd.Timestamp.now()\n",
    "\n",
    "        self.db['time'].loc[self.target] = time_stamp\n",
    "        self.db['correct'].loc[self.target] = num\n",
    "        self.db.to_csv(sen_path)\n",
    "\n",
    "        \n",
    "\n",
    "    \n",
    "\n",
    "\n",
    "        "
   ]
  },
  {
   "cell_type": "code",
   "execution_count": null,
   "metadata": {},
   "outputs": [],
   "source": [
    "db"
   ]
  },
  {
   "cell_type": "code",
   "execution_count": 6,
   "metadata": {},
   "outputs": [
    {
     "data": {
      "text/plain": [
       "0"
      ]
     },
     "execution_count": 6,
     "metadata": {},
     "output_type": "execute_result"
    }
   ],
   "source": [
    "db = pd.read_csv(sen_path, encoding = 'cp949')\n",
    "db[db['correct']==0].__len__()"
   ]
  },
  {
   "cell_type": "code",
   "execution_count": null,
   "metadata": {},
   "outputs": [],
   "source": [
    "if __name__ == \"__main__\":\n",
    "    try:\n",
    "        App = QApplication(sys.argv)\n",
    "        print('pase 1')\n",
    "        Root = MainWindow()\n",
    "        print('pase 2')\n",
    "\n",
    "        Root.show()\n",
    "        print('pase 3')\n",
    "\n",
    "        sys.exit(App.exec())\n",
    "    except Exception as e:\n",
    "        print(e)"
   ]
  }
 ],
 "metadata": {
  "kernelspec": {
   "display_name": "Python 3.8.0 ('sentences')",
   "language": "python",
   "name": "python3"
  },
  "language_info": {
   "codemirror_mode": {
    "name": "ipython",
    "version": 3
   },
   "file_extension": ".py",
   "mimetype": "text/x-python",
   "name": "python",
   "nbconvert_exporter": "python",
   "pygments_lexer": "ipython3",
   "version": "3.8.0"
  },
  "orig_nbformat": 4,
  "vscode": {
   "interpreter": {
    "hash": "85f608aa6612acd5c1683a82def4a8de2b64081be14bea6627ff096845dc9c55"
   }
  }
 },
 "nbformat": 4,
 "nbformat_minor": 2
}
